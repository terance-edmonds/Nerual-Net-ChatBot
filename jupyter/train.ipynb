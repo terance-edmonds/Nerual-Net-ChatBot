{
 "cells": [
  {
   "cell_type": "code",
   "execution_count": 20,
   "id": "df6bfd60",
   "metadata": {},
   "outputs": [],
   "source": [
    "import json\n",
    "import import_ipynb\n",
    "import numpy as np\n",
    "\n",
    "from nltk_utils import tokenizer, stem, bag_of_words"
   ]
  },
  {
   "cell_type": "code",
   "execution_count": 3,
   "id": "4bb43b7a",
   "metadata": {},
   "outputs": [],
   "source": [
    "with open('intents.json', 'r') as f:\n",
    "    intents = json.load(f)"
   ]
  },
  {
   "cell_type": "code",
   "execution_count": 18,
   "id": "c15463d1",
   "metadata": {},
   "outputs": [],
   "source": [
    "tags = []\n",
    "all_words = []\n",
    "xy = []\n",
    "x_train = []\n",
    "y_train = []\n",
    "ignore_words = ['?', '!', '.', ',']\n",
    "\n",
    "for intent in intents['intents']:\n",
    "    tag = intent['tag']\n",
    "    tags.append(tag)\n",
    "    \n",
    "    for pattern in intent['patterns']:\n",
    "        tokenize = tokenizer(pattern)\n",
    "        all_words.extend(tokenize)\n",
    "        xy.append( (tokenize, tag) )\n",
    "        \n",
    "all_words = [stem(w) for w in all_words if w not in ignore_words]\n",
    "all_words = sorted(set(all_words))\n",
    "\n",
    "tags = sorted(set(tags))\n",
    "\n",
    "for (tokenized_sentence, tag) in xy:\n",
    "    bag = bag_of_words(tokenized_sentence, tag)\n",
    "    x_train.append(bag)\n",
    "    \n",
    "    label = tags.index(tag)\n",
    "    y_train.append(label)\n",
    "    \n",
    "x_train = np.array(x_train)\n",
    "y_train = np.array(y_train)"
   ]
  }
 ],
 "metadata": {
  "kernelspec": {
   "display_name": "Python 3 (ipykernel)",
   "language": "python",
   "name": "python3"
  },
  "language_info": {
   "codemirror_mode": {
    "name": "ipython",
    "version": 3
   },
   "file_extension": ".py",
   "mimetype": "text/x-python",
   "name": "python",
   "nbconvert_exporter": "python",
   "pygments_lexer": "ipython3",
   "version": "3.7.6"
  }
 },
 "nbformat": 4,
 "nbformat_minor": 5
}
